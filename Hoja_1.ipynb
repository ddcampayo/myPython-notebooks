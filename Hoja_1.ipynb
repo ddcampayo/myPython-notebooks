{
 "cells": [
  {
   "cell_type": "markdown",
   "metadata": {
    "deletable": true,
    "editable": true
   },
   "source": [
    "# Hoja 1. Ejercicios Python"
   ]
  },
  {
   "cell_type": "markdown",
   "metadata": {
    "deletable": true,
    "editable": true
   },
   "source": [
    "En este cuaderno tenéis una serie de ejercicios para que vayáis practicando con Python.\n",
    "La base está en lo explicado en clase y en los notebooks [Introducción](intro_plot.ipynb) y [Convección-1D](conveccion_1d.ipynb)"
   ]
  },
  {
   "cell_type": "markdown",
   "metadata": {
    "deletable": true,
    "editable": true
   },
   "source": [
    "Acordaos siempre, como primer paso, de cargar los módulos que vayáis a utilizar"
   ]
  },
  {
   "cell_type": "code",
   "execution_count": 9,
   "metadata": {
    "collapsed": true,
    "deletable": true,
    "editable": true
   },
   "outputs": [],
   "source": [
    "import numpy as np\n",
    "import matplotlib.pyplot as plt #Esta es otra forma de importar el submódulo pyplot! \n",
    "                                #Igual de válida que la que hemos visto en clase\n",
    "\n",
    "%matplotlib inline"
   ]
  },
  {
   "cell_type": "markdown",
   "metadata": {
    "deletable": true,
    "editable": true
   },
   "source": [
    "### Ejercicio 1"
   ]
  },
  {
   "cell_type": "markdown",
   "metadata": {
    "deletable": true,
    "editable": true
   },
   "source": [
    "Crea dos vectores, $x$ e $y$, que contengan 30 y 60 puntos, espaciados en el intervalo $[0,1]$ y $[0,2]$ respectivamente. Usa para ello el comando $\\texttt{np.linspace}$\n"
   ]
  },
  {
   "cell_type": "code",
   "execution_count": 10,
   "metadata": {
    "collapsed": false,
    "deletable": true,
    "editable": true
   },
   "outputs": [],
   "source": [
    "# Introduce aquí tu código"
   ]
  },
  {
   "cell_type": "markdown",
   "metadata": {
    "deletable": true,
    "editable": true
   },
   "source": [
    "Chequea el resultado mediante el comando len(). Prueba y crea de nuevo los vectores mediante el comando np.arange. ¿Hay diferencia? ¿Cuál?"
   ]
  },
  {
   "cell_type": "markdown",
   "metadata": {
    "deletable": true,
    "editable": true
   },
   "source": [
    "*Pista* : ¡Recuerda que puedes encontrar documentación sobre python, numpy y matplotlib en la web!  \n",
    "<a href=\"https://docs.python.org/2/\">Python Documentation  \n",
    "<a href=\"http://www.numpy.org/\">Numpy  \n",
    "<a href=\"https://matplotlib.org/\">Matplotlib"
   ]
  },
  {
   "cell_type": "markdown",
   "metadata": {
    "deletable": true,
    "editable": true
   },
   "source": [
    "### Ejercicio 2"
   ]
  },
  {
   "cell_type": "markdown",
   "metadata": {
    "deletable": true,
    "editable": true
   },
   "source": [
    "Crea vectores para las funciones $sin(x)$, $exp(-x^2/2)$ y $log(x)$ (¡Logaritmo natural!). Representa en diferentes gráficas cada una de estas funciones frente al eje correspondiente de ordenadas."
   ]
  },
  {
   "cell_type": "code",
   "execution_count": 11,
   "metadata": {
    "collapsed": true,
    "deletable": true,
    "editable": true
   },
   "outputs": [],
   "source": [
    "# Introduce tu código aquí"
   ]
  },
  {
   "cell_type": "markdown",
   "metadata": {
    "deletable": true,
    "editable": true
   },
   "source": [
    "Crea un nuevo vector $n * \sin(x)$ y representa en un mismo gráfico esta función frente a $\sin(x)$"
   ]
  },
  {
   "cell_type": "code",
   "execution_count": 12,
   "metadata": {
    "collapsed": true,
    "deletable": true,
    "editable": true
   },
   "outputs": [],
   "source": [
    "# Introduce tu código aquí"
   ]
  },
  {
   "cell_type": "markdown",
   "metadata": {
    "deletable": true,
    "editable": true
   },
   "source": [
    "#### Tuneando matplotlib"
   ]
  },
  {
   "cell_type": "markdown",
   "metadata": {
    "deletable": true,
    "editable": true
   },
   "source": [
    "Busca en la documentación cómo añadir al gráfico etiquetas a los ejes, títulos y leyendas. Prueba también a cambiar el tamaño de fuente."
   ]
  },
  {
   "cell_type": "markdown",
   "metadata": {
    "deletable": true,
    "editable": true
   },
   "source": [
    "Cambia el estilo de representación: cambia el color de las líneas, su grosor o el tipo de marcador (puntos, cruces, triángulos, línea discontinua, etc.)"
   ]
  },
  {
   "cell_type": "code",
   "execution_count": 13,
   "metadata": {
    "collapsed": true,
    "deletable": true,
    "editable": true
   },
   "outputs": [],
   "source": [
    "# Introduce tu código aquí"
   ]
  },
  {
   "cell_type": "markdown",
   "metadata": {
    "deletable": true,
    "editable": true
   },
   "source": [
    "Explora cambiar el rango, y las opciones de representación de ejes $\\texttt{semilogx}$, $\\texttt{semilogy}$ y $\\texttt{loglog}$ para la función logaritmo. ¿Qué diferencias notas?"
   ]
  },
  {
   "cell_type": "code",
   "execution_count": 14,
   "metadata": {
    "collapsed": true,
    "deletable": true,
    "editable": true
   },
   "outputs": [],
   "source": [
    "# Introduce tu código aquí"
   ]
  },
  {
   "cell_type": "markdown",
   "metadata": {
    "deletable": true,
    "editable": true
   },
   "source": [
    "### Ejercicio 3"
   ]
  },
  {
   "cell_type": "markdown",
   "metadata": {
    "deletable": true,
    "editable": true
   },
   "source": [
    "Vamos con las estructuras de control: bucles for, while y condionales. Cosas fáciles, para repasar ;-)"
   ]
  },
  {
   "cell_type": "markdown",
   "metadata": {
    "collapsed": true,
    "deletable": true,
    "editable": true
   },
   "source": [
    "Crea un bucle que devuelva el índice de cada uno de los puntos de la función $exp(-x^2/2)$."
   ]
  },
  {
   "cell_type": "code",
   "execution_count": 16,
   "metadata": {
    "collapsed": true,
    "deletable": true,
    "editable": true
   },
   "outputs": [],
   "source": [
    "# Introduce tu código aquí"
   ]
  },
  {
   "cell_type": "markdown",
   "metadata": {
    "collapsed": true,
    "deletable": true,
    "editable": true
   },
   "source": [
    "Escribe un programa que devuelva el máximo de la función $\sin(x)$ en el intervalo especificado anteriormente."
   ]
  },
  {
   "cell_type": "code",
   "execution_count": 17,
   "metadata": {
    "collapsed": true,
    "deletable": true,
    "editable": true
   },
   "outputs": [],
   "source": [
    "# Introduce tu código aquí"
   ]
  },
  {
   "cell_type": "markdown",
   "metadata": {
    "collapsed": true,
    "deletable": true,
    "editable": true
   },
   "source": [
    "Escribe un programa que devuelva si un número comprendido en el rango de 1 a 100 es par o impar"
   ]
  },
  {
   "cell_type": "code",
   "execution_count": 18,
   "metadata": {
    "collapsed": true,
    "deletable": true,
    "editable": true
   },
   "outputs": [],
   "source": [
    "# Introduce tu código aquí"
   ]
  },
  {
   "cell_type": "markdown",
   "metadata": {
    "collapsed": true,
    "deletable": true,
    "editable": true
   },
   "source": [
    "Crea un programa que devuelva el factorial de un número $n$ (El factorial de un número es el producto de todos los enteros entre 1 y el propio número)"
   ]
  },
  {
   "cell_type": "code",
   "execution_count": 19,
   "metadata": {
    "collapsed": true,
    "deletable": true,
    "editable": true
   },
   "outputs": [],
   "source": [
    "# Introduce tu código aquí"
   ]
  },
  {
   "cell_type": "markdown",
   "metadata": {
    "deletable": true,
    "editable": true
   },
   "source": [
    "*Reto*: Explora la posibilidad de crear estos programas mediante la definición de una función (def)"
   ]
  },
  {
   "cell_type": "markdown",
   "metadata": {
    "deletable": true,
    "editable": true
   },
   "source": [
    "### Ejercicio 4"
   ]
  },
  {
   "cell_type": "markdown",
   "metadata": {
    "deletable": true,
    "editable": true
   },
   "source": [
    "Entramos en la discretización de una ecuación diferencial:"
   ]
  },
  {
   "cell_type": "markdown",
   "metadata": {
    "deletable": true,
    "editable": true
   },
   "source": [
    "La ecuación de convección en 1D es:  \n",
    "  \n",
    "  \n",
    "$\\frac{\\partial u}{\\partial t} + c \\frac{\\partial u}{\\partial x}$"
   ]
  },
  {
   "cell_type": "markdown",
   "metadata": {},
   "source": [
    "A esta ecuación, como vimos, pueden aplicársele diferentes discretizaciones, que darán lugar a resultados diferentes."
   ]
  },
  {
   "cell_type": "markdown",
   "metadata": {},
   "source": [
    "Revisa en primer lugar el notebook [Convección-1D](conveccion_1d.ipynb). Cambia los parámetros de discretización. ¿Hay algún cambio? ¿Qué ocurre si aumento la resolución temporal? ¿Y la resolución espacial?"
   ]
  },
  {
   "cell_type": "markdown",
   "metadata": {},
   "source": [
    "Implementa, al igual que se ha hecho con el esquema de diferencias centradas, un esquema de tipo \"backward\". ¿Mejora o empeora?"
   ]
  },
  {
   "cell_type": "code",
   "execution_count": null,
   "metadata": {
    "collapsed": true
   },
   "outputs": [],
   "source": [
    "# Introduce tu código aquí"
   ]
  },
  {
   "cell_type": "markdown",
   "metadata": {},
   "source": [
    "*Reto*: Al igual que en los casos previos, trata de implementar un esquema Crank-Nicholson <a href=\"\"> pincha aquí "
   ]
  },
  {
   "cell_type": "markdown",
   "metadata": {},
   "source": [
    "### Ejercicio 5"
   ]
  },
  {
   "cell_type": "markdown",
   "metadata": {},
   "source": [
    "Partiendo del esquema \"upwind\", cambia las condiciones iniciales del problema. El campo de velocidades es ahora del tipo:  \n",
    "  \n",
    "$ u (x) = 0.5 \\exp{\\frac{x - 0.5}{2}}$"
   ]
  },
  {
   "cell_type": "code",
   "execution_count": null,
   "metadata": {
    "collapsed": true
   },
   "outputs": [],
   "source": [
    "# Introduce tu código aquí"
   ]
  },
  {
   "cell_type": "markdown",
   "metadata": {},
   "source": [
    "Represéntalo gráficamente. ¿Qué ocurre?"
   ]
  },
  {
   "cell_type": "markdown",
   "metadata": {
    "deletable": true,
    "editable": true
   },
   "source": [
    "Puedes probar muchas otras configuraciones..."
   ]
  },
  {
   "cell_type": "markdown",
   "metadata": {},
   "source": [
    "### Ejercicio 6"
   ]
  },
  {
   "cell_type": "markdown",
   "metadata": {},
   "source": [
    "Hasta ahora, no nos hemos preocupado por los nodos inicial y final. Estos nodos son los que se conocen como condiciones de contorno (en 1-D sólo tendremos dos nodos, pero en 2-D y 3-D la cosa se complica).  \n",
    "  \n",
    "Existen diferentes condiciones de contorno a aplicar en función del problema que queramos resolver: Dirichlet, Neumann, Robin, condiciones de entrada, de salida, de simetría, periódicas, etc.  \n",
    "  \n",
    "Unas de las más populares son estas últimas. Las condiciones periódicas establecen que lo que ocurre en nuestro dominio se reproduce exactamente en periodos tanto sucesivos como anteriores. Por tanto, aquello que salga de nuestro dominio debe ser igual a lo que entra en nuestro dominio "
   ]
  },
  {
   "cell_type": "markdown",
   "metadata": {},
   "source": [
    "Implementa las condiciones periódicas en nuestro problema de convección. Déja correr el problema el tiempo suficiente para ver el efecto de la condición de contorno. ¿Qué ocurre?"
   ]
  },
  {
   "cell_type": "code",
   "execution_count": null,
   "metadata": {
    "collapsed": true
   },
   "outputs": [],
   "source": [
    "# Introduce tu código aquí"
   ]
  },
  {
   "cell_type": "markdown",
   "metadata": {},
   "source": [
    "*Reto*: Busca cuáles son las condiciones de contorno Dirichlet, e impleméntalas en los contornos del dominio. La condición inicial es $u (x = 0) = 1$ y $u(x = L) = 0$. Evoluciona la simulación. ¿Qué ocurre?"
   ]
  },
  {
   "cell_type": "code",
   "execution_count": null,
   "metadata": {
    "collapsed": true
   },
   "outputs": [],
   "source": [
    "# Introduce tu código aquí"
   ]
  }
 ],
 "metadata": {
  "kernelspec": {
   "display_name": "Python 2",
   "language": "python",
   "name": "python2"
  },
  "language_info": {
   "codemirror_mode": {
    "name": "ipython",
    "version": 2
   },
   "file_extension": ".py",
   "mimetype": "text/x-python",
   "name": "python",
   "nbconvert_exporter": "python",
   "pygments_lexer": "ipython2",
   "version": "2.7.11"
  }
 },
 "nbformat": 4,
 "nbformat_minor": 2
}
